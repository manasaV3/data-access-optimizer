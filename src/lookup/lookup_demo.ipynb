{
 "cells": [
  {
   "cell_type": "markdown",
   "metadata": {},
   "source": [
    "# ManifestLookup Demo\n",
    "\n",
    "This notebook demonstrates how to use the `ManifestLookup` class to query gene and tissue data from parquet files.\n",
    "\n",
    "The ManifestLookup class provides methods to:\n",
    "- Check if gene_id and tissue_id combinations exist\n",
    "- Get file paths for specific gene/tissue combinations\n",
    "- List all tissues for a given gene\n",
    "- List all genes for a given tissue\n",
    "- Get all unique genes and tissues in the dataset"
   ]
  },
  {
   "cell_type": "markdown",
   "metadata": {},
   "source": [
    "## Setup\n",
    "\n",
    "First, let's import the required modules and set up logging:"
   ]
  },
  {
   "cell_type": "code",
   "execution_count": 1,
   "metadata": {},
   "outputs": [
    {
     "ename": "ModuleNotFoundError",
     "evalue": "No module named 'lookup'",
     "output_type": "error",
     "traceback": [
      "\u001b[31m---------------------------------------------------------------------------\u001b[39m",
      "\u001b[31mModuleNotFoundError\u001b[39m                       Traceback (most recent call last)",
      "\u001b[36mCell\u001b[39m\u001b[36m \u001b[39m\u001b[32mIn[1]\u001b[39m\u001b[32m, line 2\u001b[39m\n\u001b[32m      1\u001b[39m \u001b[38;5;28;01mimport\u001b[39;00m\u001b[38;5;250m \u001b[39m\u001b[34;01mlogging\u001b[39;00m\n\u001b[32m----> \u001b[39m\u001b[32m2\u001b[39m \u001b[38;5;28;01mfrom\u001b[39;00m\u001b[38;5;250m \u001b[39m\u001b[34;01mlookup\u001b[39;00m\u001b[38;5;250m \u001b[39m\u001b[38;5;28;01mimport\u001b[39;00m ManifestLookup\n\u001b[32m      4\u001b[39m \u001b[38;5;66;03m# Configure logging to see what's happening\u001b[39;00m\n\u001b[32m      5\u001b[39m logging.basicConfig(\n\u001b[32m      6\u001b[39m     level=logging.INFO,\n\u001b[32m      7\u001b[39m     \u001b[38;5;28mformat\u001b[39m=\u001b[33m'\u001b[39m\u001b[38;5;132;01m%(asctime)s\u001b[39;00m\u001b[33m - \u001b[39m\u001b[38;5;132;01m%(name)s\u001b[39;00m\u001b[33m - \u001b[39m\u001b[38;5;132;01m%(levelname)s\u001b[39;00m\u001b[33m - \u001b[39m\u001b[38;5;132;01m%(message)s\u001b[39;00m\u001b[33m'\u001b[39m\n\u001b[32m      8\u001b[39m )\n",
      "\u001b[31mModuleNotFoundError\u001b[39m: No module named 'lookup'"
     ]
    }
   ],
   "source": [
    "import logging\n",
    "from lookup import ManifestLookup\n",
    "\n",
    "# Configure logging to see what's happening\n",
    "logging.basicConfig(\n",
    "    level=logging.INFO,\n",
    "    format='%(asctime)s - %(name)s - %(levelname)s - %(message)s'\n",
    ")\n",
    "logger = logging.getLogger(__name__)"
   ]
  },
  {
   "cell_type": "markdown",
   "metadata": {},
   "source": [
    "## Initialize the ManifestLookup\n",
    "\n",
    "We'll create a ManifestLookup instance using either a local file or an S3 path. The class handles both automatically."
   ]
  },
  {
   "cell_type": "code",
   "execution_count": null,
   "metadata": {},
   "outputs": [],
   "source": [
    "# Choose your data source:\n",
    "# Option 1: Local file\n",
    "# parquet_file_path = \"../data/manifest.parquet\"\n",
    "\n",
    "# Option 2: S3 file (used in this demo)\n",
    "parquet_file_path = \"s3://czi-dnacell-staging/alzhimers_disease/v1/manifest.parquet\"\n",
    "\n",
    "print(f\"Loading data from: {parquet_file_path}\")"
   ]
  },
  {
   "cell_type": "code",
   "execution_count": null,
   "metadata": {},
   "outputs": [],
   "source": [
    "# Initialize the lookup using context manager for proper cleanup\n",
    "lookup = ManifestLookup(parquet_file_path)\n",
    "print(f\"✓ Successfully loaded manifest data from {parquet_file_path}\")"
   ]
  },
  {
   "cell_type": "markdown",
   "metadata": {},
   "source": [
    "## 1. Query Specific Gene-Tissue Combinations\n",
    "\n",
    "Let's check if specific gene-tissue combinations exist and get their file paths:"
   ]
  },
  {
   "cell_type": "code",
   "execution_count": null,
   "metadata": {},
   "outputs": [],
   "source": [
    "# Example gene and tissue IDs\n",
    "example_gene = \"ENSG00000003989.16\"\n",
    "example_tissue = \"model_tissue_21\"\n",
    "\n",
    "print(f\"Looking up gene: {example_gene}, tissue: {example_tissue}\")\n",
    "print(\"-\" * 60)\n",
    "\n",
    "# Check if the combination exists\n",
    "exists = lookup.exists(example_gene, example_tissue)\n",
    "print(f\"Does combination exist? {exists}\")\n",
    "\n",
    "# Get the S3 file path if it exists\n",
    "if exists:\n",
    "    s3_file_path = lookup.get_s3_file_path(example_gene, example_tissue)\n",
    "    print(f\"S3 file path: {s3_file_path}\")\n",
    "    \n",
    "    # Also get the local file path (downloads the file)\n",
    "    local_file_path = lookup.get_file_path(example_gene, example_tissue)\n",
    "    print(f\"Local file path (downloaded): {local_file_path}\")\n",
    "else:\n",
    "    print(\"No file path found for this combination\")"
   ]
  },
  {
   "cell_type": "markdown",
   "metadata": {},
   "source": [
    "## 2. Get All Records for a Specific Gene\n",
    "\n",
    "Let's see all tissues associated with our example gene:"
   ]
  },
  {
   "cell_type": "code",
   "execution_count": null,
   "metadata": {},
   "outputs": [],
   "source": [
    "gene_records = lookup.get_records_for_gene(example_gene)\n",
    "print(f\"Found {len(gene_records)} records for gene {example_gene}:\")\n",
    "print(\"-\" * 60)\n",
    "\n",
    "# Show first few records\n",
    "for i, record in enumerate(gene_records[:5]):\n",
    "    print(f\"{i+1}. {record}\")\n",
    "    \n",
    "if len(gene_records) > 5:\n",
    "    print(f\"... and {len(gene_records) - 5} more records\")"
   ]
  },
  {
   "cell_type": "markdown",
   "metadata": {},
   "source": [
    "## 3. Get All Records for a Specific Tissue\n",
    "\n",
    "Now let's see all genes associated with a specific tissue:"
   ]
  },
  {
   "cell_type": "code",
   "execution_count": null,
   "metadata": {},
   "outputs": [],
   "source": [
    "example_tissue_id = \"tissue_21\"  # Note: the class handles \"model_\" and \"tissue_\" prefixes automatically\n",
    "tissue_records = lookup.get_records_for_tissue(example_tissue_id)\n",
    "\n",
    "print(f\"Found {len(tissue_records)} records for tissue {example_tissue_id}:\")\n",
    "print(\"-\" * 60)\n",
    "\n",
    "# Show first few records\n",
    "for i, record in enumerate(tissue_records[:5]):\n",
    "    print(f\"{i+1}. {record}\")\n",
    "    \n",
    "if len(tissue_records) > 5:\n",
    "    print(f\"... and {len(tissue_records) - 5} more records\")"
   ]
  },
  {
   "cell_type": "markdown",
   "metadata": {},
   "source": [
    "## 4. Explore the Dataset\n",
    "\n",
    "Let's get an overview of all unique genes and tissues in the dataset:"
   ]
  },
  {
   "cell_type": "code",
   "execution_count": null,
   "metadata": {},
   "outputs": [],
   "source": [
    "# Get all unique genes\n",
    "unique_genes = lookup.get_unique(\"gene_id\")\n",
    "print(f\"Total unique genes: {len(unique_genes)}\")\n",
    "print(f\"First 10 genes: {unique_genes[:10]}\")\n",
    "print()"
   ]
  },
  {
   "cell_type": "code",
   "execution_count": null,
   "metadata": {},
   "outputs": [],
   "source": [
    "# Get all unique tissues\n",
    "unique_tissues = lookup.get_unique(\"tissue_id\")\n",
    "print(f\"Total unique tissues: {len(unique_tissues)}\")\n",
    "print(f\"All tissues: {unique_tissues}\")"
   ]
  },
  {
   "cell_type": "markdown",
   "metadata": {},
   "source": [
    "## 5. S3 File Path vs Local File Path\n",
    "\n",
    "The ManifestLookup class provides two methods for file access:\n",
    "- `get_s3_file_path()` - Returns the S3 path directly from the manifest\n",
    "- `get_file_path()` - Downloads the file from S3 and returns local path"
   ]
  },
  {
   "cell_type": "code",
   "execution_count": null,
   "metadata": {},
   "outputs": [],
   "source": [
    "# Demonstrate the difference between S3 and local file paths\n",
    "test_gene = \"ENSG00000003989.16\"\n",
    "test_tissue = 21\n",
    "\n",
    "print(\"Comparing S3 vs Local file path access:\")\n",
    "print(\"-\" * 50)\n",
    "\n",
    "# Method 1: Get S3 path only (no download)\n",
    "s3_path = lookup.get_s3_file_path(test_gene, test_tissue)\n",
    "if s3_path:\n",
    "    print(f\"S3 path: {s3_path}\")\n",
    "    print(\"✓ Fast - no download required\")\n",
    "else:\n",
    "    print(\"❌ No file found for this gene-tissue combination\")\n",
    "    \n",
    "print()\n",
    "\n",
    "# Method 2: Get local path (downloads file)\n",
    "if s3_path:  # Only attempt download if S3 path exists\n",
    "    print(\"Downloading file to local storage...\")\n",
    "    local_path = lookup.get_file_path(test_gene, test_tissue)\n",
    "    if local_path:\n",
    "        print(f\"Local path: {local_path}\")\n",
    "        print(\"✓ File downloaded and ready for local processing\")\n",
    "    else:\n",
    "        print(\"❌ Download failed\")\n",
    "        \n",
    "print()\n",
    "print(\"Use get_s3_file_path() when you only need the S3 location\")\n",
    "print(\"Use get_file_path() when you need to process the file locally\")"
   ]
  },
  {
   "cell_type": "code",
   "execution_count": null,
   "metadata": {},
   "outputs": [],
   "source": [
    "# Example 1: Find all genes that exist in a specific tissue\n",
    "target_tissue = 21\n",
    "genes_in_tissue = lookup.get_records_for_tissue(target_tissue)\n",
    "gene_ids_in_tissue = [record.gene_id for record in genes_in_tissue]\n",
    "\n",
    "print(f\"Genes available in tissue {target_tissue}:\")\n",
    "print(f\"Total: {len(gene_ids_in_tissue)}\")\n",
    "print(f\"Sample: {gene_ids_in_tissue[:5]}\")\n",
    "print()\n",
    "\n",
    "# Example 2: Batch processing - get S3 paths for multiple files\n",
    "print(\"Batch S3 path lookup:\")\n",
    "print(\"-\" * 30)\n",
    "sample_genes = gene_ids_in_tissue[:3] if gene_ids_in_tissue else []\n",
    "for gene in sample_genes:\n",
    "    s3_path = lookup.get_s3_file_path(gene, target_tissue)\n",
    "    print(f\"{gene[:20]:<20} -> {s3_path}\")\n",
    "print()"
   ]
  },
  {
   "cell_type": "code",
   "execution_count": null,
   "metadata": {},
   "outputs": [],
   "source": [
    "# Example 3: Check multiple gene-tissue combinations with S3 paths\n",
    "test_combinations = [\n",
    "    (\"ENSG00000003989.16\", \"tissue_21\"),\n",
    "    (\"ENSG00000003989.16\", \"tissue_1\"),\n",
    "    (\"NONEXISTENT_GENE\", \"tissue_21\")\n",
    "]\n",
    "\n",
    "print(\"Testing multiple combinations with S3 paths:\")\n",
    "print(\"-\" * 55)\n",
    "for gene, tissue in test_combinations:\n",
    "    exists = lookup.exists(gene, tissue)\n",
    "    if exists:\n",
    "        s3_path = lookup.get_s3_file_path(gene, tissue)\n",
    "        status = f\"✓ S3: {s3_path}\"\n",
    "    else:\n",
    "        status = \"✗ NOT FOUND\"\n",
    "    print(f\"{gene[:20]:<20} + {tissue:<15} = {status}\")"
   ]
  },
  {
   "cell_type": "markdown",
   "metadata": {},
   "source": [
    "## 6. Cleanup"
   ]
  },
  {
   "cell_type": "code",
   "execution_count": null,
   "metadata": {},
   "outputs": [],
   "source": [
    "# Close the connection and cleanup resources\n",
    "lookup.close()\n",
    "print(\"✓ ManifestLookup connection closed successfully\")"
   ]
  },
  {
   "cell_type": "markdown",
   "metadata": {},
   "source": [
    "## Best Practices\n",
    "\n",
    "### Using Context Manager (Recommended)\n",
    "\n",
    "For automatic cleanup, use the context manager pattern:"
   ]
  },
  {
   "cell_type": "code",
   "execution_count": null,
   "metadata": {},
   "outputs": [],
   "source": [
    "# Recommended pattern using 'with' statement\n",
    "def demonstrate_context_manager(parquet_file_path):\n",
    "    with ManifestLookup(parquet_file_path) as lookup:\n",
    "        # All your operations here\n",
    "        exists = lookup.exists(\"ENSG00000003989.16\", \"tissue_21\")\n",
    "        print(f\"Gene-tissue combination exists: {exists}\")\n",
    "        \n",
    "        # Get S3 path without downloading\n",
    "        if exists:\n",
    "            s3_path = lookup.get_s3_file_path(\"ENSG00000003989.16\", \"tissue_21\")\n",
    "            print(f\"S3 path: {s3_path}\")\n",
    "        \n",
    "        # Connection is automatically closed when exiting the 'with' block\n",
    "    print(\"✓ Connection automatically closed\")\n",
    "\n",
    "# Uncomment to run:\n",
    "# demonstrate_context_manager(parquet_file_path)"
   ]
  },
  {
   "cell_type": "markdown",
   "metadata": {},
   "source": [
    "## Summary\n",
    "\n",
    "The `ManifestLookup` class provides:\n",
    "\n",
    "1. **File Path Resolution**: Supports both local files and S3 paths\n",
    "2. **Efficient Querying**: Uses DuckDB with indexes for fast lookups\n",
    "3. **Flexible File Access**: Both S3 paths and local downloaded files\n",
    "4. **Resource Management**: Proper cleanup with context managers\n",
    "5. **Error Handling**: Robust error handling for missing files and invalid schemas\n",
    "\n",
    "### Key Methods:\n",
    "- `exists(gene_id, tissue_id)` - Check if combination exists\n",
    "- `get_s3_file_path(gene_id, tissue_id)` - Get S3 file path directly (no download)\n",
    "- `get_file_path(gene_id, tissue_id)` - Download file and get local path\n",
    "- `get_records_for_gene(gene_id)` - Get all records for a gene\n",
    "- `get_records_for_tissue(tissue_id)` - Get all records for a tissue\n",
    "- `get_unique(column_name)` - Get all unique values for a column\n",
    "\n",
    "### When to Use Which Method:\n",
    "- **get_s3_file_path()**: When you need the S3 location for other AWS services or just metadata\n",
    "- **get_file_path()**: When you need to process the file locally (downloads and caches the file)"
   ]
  }
 ],
 "metadata": {
  "kernelspec": {
   "display_name": "Python 3 (ipykernel)",
   "language": "python",
   "name": "python3"
  },
  "language_info": {
   "codemirror_mode": {
    "name": "ipython",
    "version": 3
   },
   "file_extension": ".py",
   "mimetype": "text/x-python",
   "name": "python",
   "nbconvert_exporter": "python",
   "pygments_lexer": "ipython3",
   "version": "3.13.1"
  }
 },
 "nbformat": 4,
 "nbformat_minor": 4
}
